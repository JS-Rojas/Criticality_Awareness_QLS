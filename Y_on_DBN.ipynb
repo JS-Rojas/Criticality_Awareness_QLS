{
 "cells": [
  {
   "cell_type": "markdown",
   "metadata": {},
   "source": [
    "#### Y layer on Data \n",
    "\n",
    "Lets see how it works "
   ]
  },
  {
   "cell_type": "code",
   "execution_count": 3,
   "metadata": {},
   "outputs": [
    {
     "name": "stdout",
     "output_type": "stream",
     "text": [
      "Capa 2 cargada: (184800, 250)\n"
     ]
    }
   ],
   "source": [
    "import numpy as np\n",
    "import matplotlib.pyplot as plt\n",
    "\n",
    "ruta_layer2 = \"activation_layer2.txt\"  \n",
    "with open(ruta_layer2, \"r\") as f:\n",
    "    # Rewrite data in a list\n",
    "    data_layer2 = [list(map(int, line.strip().split())) for line in f]\n",
    "# Rewrite as numpy array\n",
    "X_layer2 = np.array(data_layer2)\n",
    "print(\"Capa 2 cargada:\", X_layer2.shape)  "
   ]
  },
  {
   "cell_type": "code",
   "execution_count": 5,
   "metadata": {},
   "outputs": [],
   "source": [
    "def activation(z, func=\"sigmoid\"):\n",
    "    \"\"\"\n",
    "    Funciones de activación: step, sigmoid, tanh, relu.\n",
    "    \"\"\"\n",
    "    if func == \"step\":\n",
    "        return np.where(z >= 0, 1.0, -1.0)\n",
    "    elif func == \"sigmoid\":\n",
    "        return 1 / (1 + np.exp(-z))\n",
    "    elif func == \"tanh\":\n",
    "        return np.tanh(z)\n",
    "    elif func == \"relu\":\n",
    "        return np.maximum(0.0, z)\n",
    "    else:\n",
    "        raise ValueError(f\"Función '{func}' no reconocida\")\n",
    "\n",
    "def simulate_layers(S, J=5, eps=0.1, func=\"sigmoid\"):\n",
    "    \"\"\"\n",
    "    Simula J capas de 'conciencia' a partir de la serie de estados S.\n",
    "    - S: matriz de estados (T, n) en {-1,+1} (o {0,1} si no lo pasamos a -1/+1).\n",
    "    - J: número de capas\n",
    "    - eps: tasa de actualización (0<eps<=1)\n",
    "    - func: función de activación\n",
    "    Devuelve A de forma (T, J) con cada a_t^j.\n",
    "    \"\"\"\n",
    "    T, n = S.shape\n",
    "    A = np.zeros((T, J))\n",
    "    W = np.random.normal(0, 1, size=(J, n))  # pesos aleatorios por capa\n",
    "    a_vals = np.zeros(J)  # valores iniciales de cada capa (a_0^j = 0)\n",
    "\n",
    "    for t in range(T):\n",
    "        for j in range(J):\n",
    "            z = W[j] @ S[t]\n",
    "            out = activation(z, func=func)\n",
    "            a_vals[j] = (1 - eps) * a_vals[j] + eps * out\n",
    "            A[t, j] = a_vals[j]\n",
    "    return A\n",
    "\n",
    "def Y_layer(A_t, sigma_inputs):\n",
    "\n",
    "    J = len(A_t)\n",
    "    score = 0.0\n",
    "    num_pares = J * (J - 1) / 2\n",
    "    for j in range(J):\n",
    "        for j_prime in range(j + 1, J):\n",
    "            delta_a = A_t[j] - A_t[j_prime]\n",
    "            delta_sigma = sigma_inputs[j] - sigma_inputs[j_prime]\n",
    "            score += delta_a * delta_sigma\n",
    "    return score / num_pares\n"
   ]
  },
  {
   "cell_type": "code",
   "execution_count": 6,
   "metadata": {},
   "outputs": [
    {
     "ename": "KeyboardInterrupt",
     "evalue": "",
     "output_type": "error",
     "traceback": [
      "\u001b[31m---------------------------------------------------------------------------\u001b[39m",
      "\u001b[31mKeyboardInterrupt\u001b[39m                         Traceback (most recent call last)",
      "\u001b[36mCell\u001b[39m\u001b[36m \u001b[39m\u001b[32mIn[6]\u001b[39m\u001b[32m, line 40\u001b[39m\n\u001b[32m     35\u001b[39m     \u001b[38;5;28;01mraise\u001b[39;00m \u001b[38;5;167;01mValueError\u001b[39;00m(\n\u001b[32m     36\u001b[39m         \u001b[33mf\u001b[39m\u001b[33m\"\u001b[39m\u001b[33mt_fixed = \u001b[39m\u001b[38;5;132;01m{\u001b[39;00mt_fixed\u001b[38;5;132;01m}\u001b[39;00m\u001b[33m es mayor que T_real = \u001b[39m\u001b[38;5;132;01m{\u001b[39;00mT_real\u001b[38;5;132;01m}\u001b[39;00m\u001b[33m. Reduce t_fixed o recorta tus datos.\u001b[39m\u001b[33m\"\u001b[39m\n\u001b[32m     37\u001b[39m     )\n\u001b[32m     39\u001b[39m \u001b[38;5;66;03m# 3.4) Simular las J capas de conciencia sobre toda la serie S\u001b[39;00m\n\u001b[32m---> \u001b[39m\u001b[32m40\u001b[39m A = \u001b[43msimulate_layers\u001b[49m\u001b[43m(\u001b[49m\u001b[43mS\u001b[49m\u001b[43m,\u001b[49m\u001b[43m \u001b[49m\u001b[43mJ\u001b[49m\u001b[43m=\u001b[49m\u001b[43mJ\u001b[49m\u001b[43m,\u001b[49m\u001b[43m \u001b[49m\u001b[43meps\u001b[49m\u001b[43m=\u001b[49m\u001b[43meps\u001b[49m\u001b[43m,\u001b[49m\u001b[43m \u001b[49m\u001b[43mfunc\u001b[49m\u001b[43m=\u001b[49m\u001b[43mfunc\u001b[49m\u001b[43m)\u001b[49m\n\u001b[32m     41\u001b[39m W_prime = np.random.normal(\u001b[32m0\u001b[39m, \u001b[32m1\u001b[39m, size=(J, n0))\n\u001b[32m     42\u001b[39m sigma_inputs = activation(W_prime @ S[t_fixed], func=func)\n",
      "\u001b[36mCell\u001b[39m\u001b[36m \u001b[39m\u001b[32mIn[5]\u001b[39m\u001b[32m, line 33\u001b[39m, in \u001b[36msimulate_layers\u001b[39m\u001b[34m(S, J, eps, func)\u001b[39m\n\u001b[32m     31\u001b[39m \u001b[38;5;28;01mfor\u001b[39;00m j \u001b[38;5;129;01min\u001b[39;00m \u001b[38;5;28mrange\u001b[39m(J):\n\u001b[32m     32\u001b[39m     z = W[j] @ S[t]\n\u001b[32m---> \u001b[39m\u001b[32m33\u001b[39m     out = \u001b[43mactivation\u001b[49m\u001b[43m(\u001b[49m\u001b[43mz\u001b[49m\u001b[43m,\u001b[49m\u001b[43m \u001b[49m\u001b[43mfunc\u001b[49m\u001b[43m=\u001b[49m\u001b[43mfunc\u001b[49m\u001b[43m)\u001b[49m\n\u001b[32m     34\u001b[39m     a_vals[j] = (\u001b[32m1\u001b[39m - eps) * a_vals[j] + eps * out\n\u001b[32m     35\u001b[39m     A[t, j] = a_vals[j]\n",
      "\u001b[36mCell\u001b[39m\u001b[36m \u001b[39m\u001b[32mIn[5]\u001b[39m\u001b[32m, line 1\u001b[39m, in \u001b[36mactivation\u001b[39m\u001b[34m(z, func)\u001b[39m\n\u001b[32m----> \u001b[39m\u001b[32m1\u001b[39m \u001b[38;5;28;01mdef\u001b[39;00m\u001b[38;5;250m \u001b[39m\u001b[34mactivation\u001b[39m(z, func=\u001b[33m\"\u001b[39m\u001b[33msigmoid\u001b[39m\u001b[33m\"\u001b[39m):\n\u001b[32m      2\u001b[39m \u001b[38;5;250m    \u001b[39m\u001b[33;03m\"\"\"\u001b[39;00m\n\u001b[32m      3\u001b[39m \u001b[33;03m    Funciones de activación: step, sigmoid, tanh, relu.\u001b[39;00m\n\u001b[32m      4\u001b[39m \u001b[33;03m    \"\"\"\u001b[39;00m\n\u001b[32m      5\u001b[39m     \u001b[38;5;28;01mif\u001b[39;00m func == \u001b[33m\"\u001b[39m\u001b[33mstep\u001b[39m\u001b[33m\"\u001b[39m:\n",
      "\u001b[31mKeyboardInterrupt\u001b[39m: "
     ]
    },
    {
     "data": {
      "image/png": "[encoded data removed]",
      "text/plain": [
       "<Figure size 800x500 with 1 Axes>"
      ]
     },
     "metadata": {},
     "output_type": "display_data"
    }
   ],
   "source": [
    "eps_values = [0.05, 0.5, 0.9]\n",
    "n_samples = 30\n",
    "t_fixed = 50  # por ejemplo\n",
    "J = 50\n",
    "func = \"sigmoid\"\n",
    "lista_n = [20, 60, 120]\n",
    "\n",
    "# layers & simulations\n",
    "for eps in eps_values:\n",
    "    plt.figure(figsize=(8, 5))\n",
    "    plt.title(f\"Curva de SRA vs n (eps = {eps:.2f}), t_fixed = {t_fixed}\")\n",
    "    plt.xlabel(\"n (número de columnas sampladas)\")\n",
    "    plt.ylabel(\"Y (SRA score)\")\n",
    "\n",
    "    medias_por_n = []\n",
    "    stds_por_n = []\n",
    "\n",
    "    # Recorro cada tamaño de sub‐conjunto n0\n",
    "    for n0 in lista_n:\n",
    "        sra_replicas = np.zeros(n_samples)\n",
    "\n",
    "        # Hago n_samples repeticiones para promediar\n",
    "        for rep in range(n_samples):\n",
    "            # 3.1) Tomar aleatoriamente n0 columnas de las 250 de X_layer2\n",
    "            idx_cols = np.random.choice(\n",
    "                X_layer2.shape[1], size=n0, replace=False\n",
    "            ) \n",
    "            #      S_real tendrá forma (T_real, n0)\n",
    "            S_real = X_layer2[:, idx_cols]\n",
    "            S = 2 * S_real - 1\n",
    "            T_real, _ = S.shape\n",
    "\n",
    "            # Asegurémonos de no desbordar t_fixed\n",
    "            if t_fixed >= T_real:\n",
    "                raise ValueError(\n",
    "                    f\"t_fixed = {t_fixed} es mayor que T_real = {T_real}. Reduce t_fixed o recorta tus datos.\"\n",
    "                )\n",
    "            \n",
    "            # 3.4) Simular las J capas de conciencia sobre toda la serie S\n",
    "            A = simulate_layers(S, J=J, eps=eps, func=func)\n",
    "            W_prime = np.random.normal(0, 1, size=(J, n0))\n",
    "            sigma_inputs = activation(W_prime @ S[t_fixed], func=func)\n",
    "            # 3.6) Calcular el SRA score en t_fixed\n",
    "            Yt = Y_layer(A[t_fixed], sigma_inputs)\n",
    "            sra_replicas[rep] = Yt\n",
    "\n",
    "        # Calculo estadísticos sobre las replicas\n",
    "        medias_por_n.append(sra_replicas.mean())\n",
    "        stds_por_n.append(sra_replicas.std())\n",
    "\n",
    "    # Ahora ploteo los puntos (n=20, n=60, n=120) con barras de desviación\n",
    "    medias_por_n = np.array(medias_por_n)\n",
    "    stds_por_n = np.array(stds_por_n)\n",
    "    plt.errorbar(\n",
    "        lista_n,\n",
    "        medias_por_n,\n",
    "        yerr=stds_por_n,\n",
    "        fmt=\"o-\",\n",
    "        capsize=5,\n",
    "        label=f\"eps = {eps:.2f}\"\n",
    "    )\n",
    "\n",
    "    plt.xticks(lista_n)\n",
    "    plt.grid(alpha=0.3)\n",
    "    plt.legend()\n",
    "    plt.tight_layout()\n",
    "    plt.show()"
   ]
  },
  {
   "cell_type": "code",
   "execution_count": null,
   "metadata": {},
   "outputs": [],
   "source": []
  }
 ],
 "metadata": {
  "kernelspec": {
   "display_name": "Python 3",
   "language": "python",
   "name": "python3"
  },
  "language_info": {
   "codemirror_mode": {
    "name": "ipython",
    "version": 3
   },
   "file_extension": ".py",
   "mimetype": "text/x-python",
   "name": "python",
   "nbconvert_exporter": "python",
   "pygments_lexer": "ipython3",
   "version": "3.11.9"
  }
 },
 "nbformat": 4,
 "nbformat_minor": 2
}
